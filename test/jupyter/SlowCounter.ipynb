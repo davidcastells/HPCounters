{
 "cells": [
  {
   "cell_type": "markdown",
   "id": "531ebe84-9e64-478c-a128-a2f1c8e8c67f",
   "metadata": {},
   "source": [
    "# Testing Slow Counter"
   ]
  },
  {
   "cell_type": "code",
   "execution_count": 1,
   "id": "23d0d42a-6004-42d7-83ea-fccacee314bd",
   "metadata": {},
   "outputs": [
    {
     "name": "stdout",
     "output_type": "stream",
     "text": [
      "Not running in Google Colab. Skipping installation.\n"
     ]
    }
   ],
   "source": [
    "import sys\n",
    "\n",
    "if 'google.colab' in sys.modules:\n",
    "    print(\"Running in Google Colab. Installing HP Counters...\")\n",
    "    !pip install git+https://github.com/davidcastells/HPCounters.git\n",
    "else:\n",
    "    print(\"Not running in Google Colab. Skipping installation.\")\n",
    "    "
   ]
  },
  {
   "cell_type": "code",
   "execution_count": null,
   "id": "e2db92f3-0440-45fb-b65c-bf03161af1a1",
   "metadata": {},
   "outputs": [],
   "source": []
  }
 ],
 "metadata": {
  "kernelspec": {
   "display_name": "Python 3 (ipykernel)",
   "language": "python",
   "name": "python3"
  },
  "language_info": {
   "codemirror_mode": {
    "name": "ipython",
    "version": 3
   },
   "file_extension": ".py",
   "mimetype": "text/x-python",
   "name": "python",
   "nbconvert_exporter": "python",
   "pygments_lexer": "ipython3",
   "version": "3.8.10"
  }
 },
 "nbformat": 4,
 "nbformat_minor": 5
}
